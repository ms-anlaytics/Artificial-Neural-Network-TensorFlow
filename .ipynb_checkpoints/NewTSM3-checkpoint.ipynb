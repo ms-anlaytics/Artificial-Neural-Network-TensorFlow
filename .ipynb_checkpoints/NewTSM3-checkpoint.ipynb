{
 "cells": [
  {
   "cell_type": "markdown",
   "id": "80ee7598",
   "metadata": {},
   "source": [
    "# Artificial Neural Network\n",
    "<p/>\n",
    "Author: Michael Stephenson\n"
   ]
  },
  {
   "cell_type": "markdown",
   "id": "b6253625",
   "metadata": {},
   "source": [
    "### Part I:  Research Question\n",
    "\n",
    "\n",
    "\n",
    "<p/>\n",
    "\n",
    "#### A 1.Research question \n",
    "\n",
    "<p/>\n",
    "\n",
    "The question posed by this case study seeks to decide about using an artificial neural network to classify product reviews as “good” or “bad” after being trained with a sample of summaries from a live product site. To proceed, we need to know, is it possible?\n",
    "\n",
    "<p/>\n",
    "\n",
    "#### A 2. Objectives\n",
    "\n",
    "<p/>\n",
    "\n",
    "This case study aims to determine if an artificial neural network can actively classify reviews of products to gain a general sentiment from customers who use a product sold by an e-commerce store. \n",
    "\n",
    "<p/>\n",
    "\n",
    "#### A 3. Artificial neural networks \n",
    "\n",
    "<p/>\n",
    "\n",
    "A neural network machine learning model recognizes patterns in data based on being composed of layers that include input and output layers and hidden layers that contain neurons of abstracted representations of data that make it possible to classify data. Since neural networks are trainable by gradient descent, the weights of every layer begin as random values and are improved iteratively over time, while a loss function qualifies how inaccurate the network is. Backpropagation decides if weight should be increased or decreased to affect the reduction of loss. \n",
    "\n",
    "<p/>\n",
    "\n",
    "Artificial neural networks are used in natural language processing and have a hidden layer or state that acts like a loop to classify text in a sentiment analysis model. Then the model can actively categorize a summary of text about a product as simply positive or negative.  (Why TensorFlow. n.d.)\n"
   ]
  },
  {
   "cell_type": "markdown",
   "id": "c7c2c71c",
   "metadata": {},
   "source": [
    "Part II:  Data Preparation\n",
    "\n",
    "B.  Summarize the data cleaning process by doing the following:\n",
    "\n",
    "1.  Perform exploratory data analysis on the chosen dataset, and include an explanation of each of the following elements:\n",
    "\n",
    "•   presence of unusual characters (e.g., emojis, non-English characters, etc.)\n",
    "\n",
    "•   vocabulary size\n",
    "\n",
    "•   proposed word embedding length\n",
    "\n",
    "•   statistical justification for the chosen maximum sequence length\n",
    "\n",
    "2.  Describe the goals of the tokenization process, including any code generated and packages that are used to normalize text during the tokenization process.\n",
    "\n",
    "3.  Explain the padding process used to standardize the length of sequences, including the following in your explanation:\n",
    "\n",
    "•   if the padding occurs before or after the text sequence\n",
    "\n",
    "•   a screenshot of a single padded sequence\n",
    "\n",
    "4.  Identify how many categories of sentiment will be used and an activation function for the final dense layer of the network.\n",
    "\n",
    "5.  Explain the steps used to prepare the data for analysis, including the size of the training, validation, and test set split.\n",
    "\n",
    "6.  Provide a copy of the prepared dataset."
   ]
  },
  {
   "cell_type": "markdown",
   "id": "8259d856",
   "metadata": {},
   "source": [
    "#### B 1. Exploratory Data Analysis"
   ]
  },
  {
   "cell_type": "code",
   "execution_count": 125,
   "id": "b6720e54",
   "metadata": {},
   "outputs": [],
   "source": [
    "#unzip gzip file\n",
    "# code (gzip - How to extract a gz file in python. n.d.).\n",
    "import gzip\n",
    "import pandas as pd\n",
    "\n",
    "def unzip(file):\n",
    "    f = gzip.open(file, 'r')\n",
    "    file_content = f.read()\n",
    "    file_content = file_content.decode('utf-8')\n",
    "    f_out = open('reviews_Clothing_Shoes_and_Jewelry_5.json', 'w+') \n",
    "    f_out.write(file_content)\n",
    "    f.close()\n",
    "    f_out.close()\n",
    "    \n",
    "\n",
    "unzip('reviews_Clothing_Shoes_and_Jewelry_5.json.gz')"
   ]
  },
  {
   "cell_type": "code",
   "execution_count": 126,
   "id": "1a8b1f88",
   "metadata": {},
   "outputs": [
    {
     "data": {
      "text/html": [
       "<div>\n",
       "<style scoped>\n",
       "    .dataframe tbody tr th:only-of-type {\n",
       "        vertical-align: middle;\n",
       "    }\n",
       "\n",
       "    .dataframe tbody tr th {\n",
       "        vertical-align: top;\n",
       "    }\n",
       "\n",
       "    .dataframe thead th {\n",
       "        text-align: right;\n",
       "    }\n",
       "</style>\n",
       "<table border=\"1\" class=\"dataframe\">\n",
       "  <thead>\n",
       "    <tr style=\"text-align: right;\">\n",
       "      <th></th>\n",
       "      <th>reviewerID</th>\n",
       "      <th>asin</th>\n",
       "      <th>reviewerName</th>\n",
       "      <th>helpful</th>\n",
       "      <th>reviewText</th>\n",
       "      <th>overall</th>\n",
       "      <th>summary</th>\n",
       "      <th>unixReviewTime</th>\n",
       "      <th>reviewTime</th>\n",
       "    </tr>\n",
       "  </thead>\n",
       "  <tbody>\n",
       "    <tr>\n",
       "      <th>0</th>\n",
       "      <td>A1KLRMWW2FWPL4</td>\n",
       "      <td>0000031887</td>\n",
       "      <td>Amazon Customer \"cameramom\"</td>\n",
       "      <td>[0, 0]</td>\n",
       "      <td>This is a great tutu and at a really great pri...</td>\n",
       "      <td>5</td>\n",
       "      <td>Great tutu-  not cheaply made</td>\n",
       "      <td>1297468800</td>\n",
       "      <td>02 12, 2011</td>\n",
       "    </tr>\n",
       "    <tr>\n",
       "      <th>1</th>\n",
       "      <td>A2G5TCU2WDFZ65</td>\n",
       "      <td>0000031887</td>\n",
       "      <td>Amazon Customer</td>\n",
       "      <td>[0, 0]</td>\n",
       "      <td>I bought this for my 4 yr old daughter for dan...</td>\n",
       "      <td>5</td>\n",
       "      <td>Very Cute!!</td>\n",
       "      <td>1358553600</td>\n",
       "      <td>01 19, 2013</td>\n",
       "    </tr>\n",
       "    <tr>\n",
       "      <th>2</th>\n",
       "      <td>A1RLQXYNCMWRWN</td>\n",
       "      <td>0000031887</td>\n",
       "      <td>Carola</td>\n",
       "      <td>[0, 0]</td>\n",
       "      <td>What can I say... my daughters have it in oran...</td>\n",
       "      <td>5</td>\n",
       "      <td>I have buy more than one</td>\n",
       "      <td>1357257600</td>\n",
       "      <td>01 4, 2013</td>\n",
       "    </tr>\n",
       "    <tr>\n",
       "      <th>3</th>\n",
       "      <td>A8U3FAMSJVHS5</td>\n",
       "      <td>0000031887</td>\n",
       "      <td>Caromcg</td>\n",
       "      <td>[0, 0]</td>\n",
       "      <td>We bought several tutus at once, and they are ...</td>\n",
       "      <td>5</td>\n",
       "      <td>Adorable, Sturdy</td>\n",
       "      <td>1398556800</td>\n",
       "      <td>04 27, 2014</td>\n",
       "    </tr>\n",
       "    <tr>\n",
       "      <th>4</th>\n",
       "      <td>A3GEOILWLK86XM</td>\n",
       "      <td>0000031887</td>\n",
       "      <td>CJ</td>\n",
       "      <td>[0, 0]</td>\n",
       "      <td>Thank you Halo Heaven great product for Little...</td>\n",
       "      <td>5</td>\n",
       "      <td>Grammy's Angels Love it</td>\n",
       "      <td>1394841600</td>\n",
       "      <td>03 15, 2014</td>\n",
       "    </tr>\n",
       "  </tbody>\n",
       "</table>\n",
       "</div>"
      ],
      "text/plain": [
       "       reviewerID        asin                 reviewerName helpful  \\\n",
       "0  A1KLRMWW2FWPL4  0000031887  Amazon Customer \"cameramom\"  [0, 0]   \n",
       "1  A2G5TCU2WDFZ65  0000031887              Amazon Customer  [0, 0]   \n",
       "2  A1RLQXYNCMWRWN  0000031887                       Carola  [0, 0]   \n",
       "3   A8U3FAMSJVHS5  0000031887                      Caromcg  [0, 0]   \n",
       "4  A3GEOILWLK86XM  0000031887                           CJ  [0, 0]   \n",
       "\n",
       "                                          reviewText  overall  \\\n",
       "0  This is a great tutu and at a really great pri...        5   \n",
       "1  I bought this for my 4 yr old daughter for dan...        5   \n",
       "2  What can I say... my daughters have it in oran...        5   \n",
       "3  We bought several tutus at once, and they are ...        5   \n",
       "4  Thank you Halo Heaven great product for Little...        5   \n",
       "\n",
       "                         summary  unixReviewTime   reviewTime  \n",
       "0  Great tutu-  not cheaply made      1297468800  02 12, 2011  \n",
       "1                    Very Cute!!      1358553600  01 19, 2013  \n",
       "2       I have buy more than one      1357257600   01 4, 2013  \n",
       "3               Adorable, Sturdy      1398556800  04 27, 2014  \n",
       "4        Grammy's Angels Love it      1394841600  03 15, 2014  "
      ]
     },
     "execution_count": 126,
     "metadata": {},
     "output_type": "execute_result"
    }
   ],
   "source": [
    "# data (He & McAuley, 2016) (McAuley et al., 2015)\n",
    "\n",
    "#read json into dataframe\n",
    "dataset = pd.read_json('reviews_Clothing_Shoes_and_Jewelry_5.json', lines=True)\n",
    "dataset.head()"
   ]
  },
  {
   "cell_type": "markdown",
   "id": "c3d8502d",
   "metadata": {},
   "source": [
    "#### Prepare the data for analysis"
   ]
  },
  {
   "cell_type": "markdown",
   "id": "290fd3dc",
   "metadata": {},
   "source": [
    "#### Step 1"
   ]
  },
  {
   "cell_type": "code",
   "execution_count": 127,
   "id": "cdc57dda",
   "metadata": {},
   "outputs": [
    {
     "data": {
      "text/html": [
       "<div>\n",
       "<style scoped>\n",
       "    .dataframe tbody tr th:only-of-type {\n",
       "        vertical-align: middle;\n",
       "    }\n",
       "\n",
       "    .dataframe tbody tr th {\n",
       "        vertical-align: top;\n",
       "    }\n",
       "\n",
       "    .dataframe thead th {\n",
       "        text-align: right;\n",
       "    }\n",
       "</style>\n",
       "<table border=\"1\" class=\"dataframe\">\n",
       "  <thead>\n",
       "    <tr style=\"text-align: right;\">\n",
       "      <th></th>\n",
       "      <th>Score</th>\n",
       "      <th>Review</th>\n",
       "    </tr>\n",
       "  </thead>\n",
       "  <tbody>\n",
       "    <tr>\n",
       "      <th>0</th>\n",
       "      <td>5</td>\n",
       "      <td>this is a great tutu and at a really great pri...</td>\n",
       "    </tr>\n",
       "    <tr>\n",
       "      <th>1</th>\n",
       "      <td>5</td>\n",
       "      <td>i bought this for my 4 yr old daughter for dan...</td>\n",
       "    </tr>\n",
       "    <tr>\n",
       "      <th>2</th>\n",
       "      <td>5</td>\n",
       "      <td>what can i say... my daughters have it in oran...</td>\n",
       "    </tr>\n",
       "    <tr>\n",
       "      <th>3</th>\n",
       "      <td>5</td>\n",
       "      <td>we bought several tutus at once, and they are ...</td>\n",
       "    </tr>\n",
       "    <tr>\n",
       "      <th>4</th>\n",
       "      <td>5</td>\n",
       "      <td>thank you halo heaven great product for little...</td>\n",
       "    </tr>\n",
       "    <tr>\n",
       "      <th>...</th>\n",
       "      <td>...</td>\n",
       "      <td>...</td>\n",
       "    </tr>\n",
       "    <tr>\n",
       "      <th>278672</th>\n",
       "      <td>5</td>\n",
       "      <td>i don't normally go ga-ga over a product very ...</td>\n",
       "    </tr>\n",
       "    <tr>\n",
       "      <th>278673</th>\n",
       "      <td>5</td>\n",
       "      <td>i've been traveling back and forth to england ...</td>\n",
       "    </tr>\n",
       "    <tr>\n",
       "      <th>278674</th>\n",
       "      <td>5</td>\n",
       "      <td>these are very nice packing cubes and the 18 x...</td>\n",
       "    </tr>\n",
       "    <tr>\n",
       "      <th>278675</th>\n",
       "      <td>5</td>\n",
       "      <td>i am on vacation with my family of four and th...</td>\n",
       "    </tr>\n",
       "    <tr>\n",
       "      <th>278676</th>\n",
       "      <td>5</td>\n",
       "      <td>when i signed up to receive a free set of shac...</td>\n",
       "    </tr>\n",
       "  </tbody>\n",
       "</table>\n",
       "<p>278677 rows × 2 columns</p>\n",
       "</div>"
      ],
      "text/plain": [
       "        Score                                             Review\n",
       "0           5  this is a great tutu and at a really great pri...\n",
       "1           5  i bought this for my 4 yr old daughter for dan...\n",
       "2           5  what can i say... my daughters have it in oran...\n",
       "3           5  we bought several tutus at once, and they are ...\n",
       "4           5  thank you halo heaven great product for little...\n",
       "...       ...                                                ...\n",
       "278672      5  i don't normally go ga-ga over a product very ...\n",
       "278673      5  i've been traveling back and forth to england ...\n",
       "278674      5  these are very nice packing cubes and the 18 x...\n",
       "278675      5  i am on vacation with my family of four and th...\n",
       "278676      5  when i signed up to receive a free set of shac...\n",
       "\n",
       "[278677 rows x 2 columns]"
      ]
     },
     "execution_count": 127,
     "metadata": {},
     "output_type": "execute_result"
    }
   ],
   "source": [
    "# make review dataset with score and review\n",
    "\n",
    "review_df=dataset[['overall', 'reviewText']].copy()\n",
    "review_df=review_df.rename(columns={'overall' : 'Score', 'reviewText': 'Review'})\n",
    "review_df['Review']=review_df['Review'].str.lower()\n",
    "review_df"
   ]
  },
  {
   "cell_type": "code",
   "execution_count": 128,
   "id": "c9670380",
   "metadata": {},
   "outputs": [
    {
     "name": "stdout",
     "output_type": "stream",
     "text": [
      "Score     0\n",
      "Review    0\n",
      "dtype: int64\n"
     ]
    }
   ],
   "source": [
    "#check for missing data\n",
    "print(review_df.isnull().sum())"
   ]
  },
  {
   "cell_type": "markdown",
   "id": "0be691a1",
   "metadata": {},
   "source": [
    "#### Check presence of unusual characters"
   ]
  },
  {
   "cell_type": "markdown",
   "id": "b634d9ac",
   "metadata": {},
   "source": [
    "#### Step 2"
   ]
  },
  {
   "cell_type": "code",
   "execution_count": 129,
   "id": "14d9437c",
   "metadata": {},
   "outputs": [
    {
     "name": "stdout",
     "output_type": "stream",
     "text": [
      "Unusual character found and cleaned !\n",
      "Unusual character found and cleaned \"\n",
      "Unusual character found and cleaned #\n",
      "Unusual character found and cleaned $\n",
      "Unusual character found and cleaned %\n",
      "Unusual character found and cleaned &\n",
      "Unusual character found and cleaned '\n",
      "Unusual character found and cleaned (\n",
      "Unusual character found and cleaned )\n",
      "Unusual character found and cleaned *\n",
      "Unusual character found and cleaned +\n",
      "Unusual character found and cleaned ,\n",
      "Unusual character found and cleaned -\n",
      "Unusual character found and cleaned .\n",
      "Unusual character found and cleaned /\n",
      "Unusual character found and cleaned :\n",
      "Unusual character found and cleaned ;\n",
      "Unusual character found and cleaned <\n",
      "Unusual character found and cleaned =\n",
      "Unusual character found and cleaned >\n",
      "Unusual character found and cleaned ?\n",
      "Unusual character found and cleaned @\n",
      "Unusual character found and cleaned [\n",
      "Unusual character found and cleaned \\\n",
      "Unusual character found and cleaned ]\n",
      "Unusual character found and cleaned ^\n",
      "Unusual character found and cleaned _\n",
      "Unusual character found and cleaned `\n",
      "Unusual character found and cleaned {\n",
      "Unusual character found and cleaned |\n",
      "Unusual character found and cleaned }\n",
      "Unusual character found and cleaned ~\n"
     ]
    }
   ],
   "source": [
    "# print the unusual characters and replace with white space\n",
    "# code (Python program to check if a string contains any unique character. n.d.)\n",
    "import string\n",
    "# unusual characters\n",
    "unusual_chars = string.punctuation\n",
    "# Replacing unusual chars\n",
    "for x in unusual_chars:\n",
    "    review_df['Review'] = review_df['Review'].str.replace(x, ' ',regex=True)\n",
    "    \n",
    "    bools = list(map(lambda chars: chars in unusual_chars, review_df['Review']))\n",
    "    print('Unusual character found and cleaned ' + x) if any(bools) else print(\"Invalid\")"
   ]
  },
  {
   "cell_type": "markdown",
   "id": "b7f1bc3d",
   "metadata": {},
   "source": [
    "#### Categories of sentiment \n",
    "\n",
    "<p/>\n",
    "\n",
    "If the score is 3-5 then the reviw is considered positive. 0 = negative, 1 = positive"
   ]
  },
  {
   "cell_type": "markdown",
   "id": "d8ed828c",
   "metadata": {},
   "source": [
    "#### Step 3 "
   ]
  },
  {
   "cell_type": "code",
   "execution_count": 130,
   "id": "27106d52",
   "metadata": {},
   "outputs": [
    {
     "data": {
      "text/html": [
       "<div>\n",
       "<style scoped>\n",
       "    .dataframe tbody tr th:only-of-type {\n",
       "        vertical-align: middle;\n",
       "    }\n",
       "\n",
       "    .dataframe tbody tr th {\n",
       "        vertical-align: top;\n",
       "    }\n",
       "\n",
       "    .dataframe thead th {\n",
       "        text-align: right;\n",
       "    }\n",
       "</style>\n",
       "<table border=\"1\" class=\"dataframe\">\n",
       "  <thead>\n",
       "    <tr style=\"text-align: right;\">\n",
       "      <th></th>\n",
       "      <th>Score</th>\n",
       "      <th>Review</th>\n",
       "      <th>Sentiment</th>\n",
       "    </tr>\n",
       "  </thead>\n",
       "  <tbody>\n",
       "    <tr>\n",
       "      <th>0</th>\n",
       "      <td>5</td>\n",
       "      <td>this is a great tutu and at a really great pri...</td>\n",
       "      <td>1</td>\n",
       "    </tr>\n",
       "    <tr>\n",
       "      <th>1</th>\n",
       "      <td>5</td>\n",
       "      <td>i bought this for my 4 yr old daughter for dan...</td>\n",
       "      <td>1</td>\n",
       "    </tr>\n",
       "    <tr>\n",
       "      <th>2</th>\n",
       "      <td>5</td>\n",
       "      <td>what can i say    my daughters have it in oran...</td>\n",
       "      <td>1</td>\n",
       "    </tr>\n",
       "    <tr>\n",
       "      <th>3</th>\n",
       "      <td>5</td>\n",
       "      <td>we bought several tutus at once  and they are ...</td>\n",
       "      <td>1</td>\n",
       "    </tr>\n",
       "    <tr>\n",
       "      <th>4</th>\n",
       "      <td>5</td>\n",
       "      <td>thank you halo heaven great product for little...</td>\n",
       "      <td>1</td>\n",
       "    </tr>\n",
       "  </tbody>\n",
       "</table>\n",
       "</div>"
      ],
      "text/plain": [
       "   Score                                             Review  Sentiment\n",
       "0      5  this is a great tutu and at a really great pri...          1\n",
       "1      5  i bought this for my 4 yr old daughter for dan...          1\n",
       "2      5  what can i say    my daughters have it in oran...          1\n",
       "3      5  we bought several tutus at once  and they are ...          1\n",
       "4      5  thank you halo heaven great product for little...          1"
      ]
     },
     "execution_count": 130,
     "metadata": {},
     "output_type": "execute_result"
    }
   ],
   "source": [
    "# Creating \"Sentiment\" (Sucky, 2021)\n",
    "# If the score is 3-5 the reviw is considered positive. 0 = negative, 1 = positive\n",
    "review_df['Sentiment'] = review_df.Score.apply(lambda x: 0 if x in [1, 2] else 1)\n",
    "review_df.head()"
   ]
  },
  {
   "cell_type": "markdown",
   "id": "aa1d0858",
   "metadata": {},
   "source": [
    "#### Negative to Positive Ratio"
   ]
  },
  {
   "cell_type": "code",
   "execution_count": 131,
   "id": "52127547",
   "metadata": {},
   "outputs": [
    {
     "name": "stdout",
     "output_type": "stream",
     "text": [
      "Sentiment:\n"
     ]
    },
    {
     "data": {
      "text/plain": [
       "array([<AxesSubplot:ylabel='Score'>], dtype=object)"
      ]
     },
     "execution_count": 131,
     "metadata": {},
     "output_type": "execute_result"
    },
    {
     "data": {
      "image/png": "[encoded data removed]",
      "text/plain": [
       "<Figure size 432x288 with 1 Axes>"
      ]
     },
     "metadata": {},
     "output_type": "display_data"
    }
   ],
   "source": [
    "print('Sentiment:')\n",
    "review_df.groupby(['Sentiment']).sum().plot(kind='pie',subplots=True)"
   ]
  },
  {
   "cell_type": "markdown",
   "id": "edc27063",
   "metadata": {},
   "source": [
    "#### Drop reviews with less than 20 chars"
   ]
  },
  {
   "cell_type": "markdown",
   "id": "244a6e23",
   "metadata": {},
   "source": [
    "#### Step 4"
   ]
  },
  {
   "cell_type": "code",
   "execution_count": 132,
   "id": "0ee11149",
   "metadata": {},
   "outputs": [
    {
     "data": {
      "text/html": [
       "<div>\n",
       "<style scoped>\n",
       "    .dataframe tbody tr th:only-of-type {\n",
       "        vertical-align: middle;\n",
       "    }\n",
       "\n",
       "    .dataframe tbody tr th {\n",
       "        vertical-align: top;\n",
       "    }\n",
       "\n",
       "    .dataframe thead th {\n",
       "        text-align: right;\n",
       "    }\n",
       "</style>\n",
       "<table border=\"1\" class=\"dataframe\">\n",
       "  <thead>\n",
       "    <tr style=\"text-align: right;\">\n",
       "      <th></th>\n",
       "      <th>Score</th>\n",
       "      <th>Review</th>\n",
       "      <th>Sentiment</th>\n",
       "    </tr>\n",
       "  </thead>\n",
       "  <tbody>\n",
       "    <tr>\n",
       "      <th>0</th>\n",
       "      <td>5</td>\n",
       "      <td>this is a great tutu and at a really great pri...</td>\n",
       "      <td>1</td>\n",
       "    </tr>\n",
       "    <tr>\n",
       "      <th>1</th>\n",
       "      <td>5</td>\n",
       "      <td>i bought this for my 4 yr old daughter for dan...</td>\n",
       "      <td>1</td>\n",
       "    </tr>\n",
       "    <tr>\n",
       "      <th>2</th>\n",
       "      <td>5</td>\n",
       "      <td>what can i say    my daughters have it in oran...</td>\n",
       "      <td>1</td>\n",
       "    </tr>\n",
       "    <tr>\n",
       "      <th>3</th>\n",
       "      <td>5</td>\n",
       "      <td>we bought several tutus at once  and they are ...</td>\n",
       "      <td>1</td>\n",
       "    </tr>\n",
       "    <tr>\n",
       "      <th>4</th>\n",
       "      <td>5</td>\n",
       "      <td>thank you halo heaven great product for little...</td>\n",
       "      <td>1</td>\n",
       "    </tr>\n",
       "    <tr>\n",
       "      <th>...</th>\n",
       "      <td>...</td>\n",
       "      <td>...</td>\n",
       "      <td>...</td>\n",
       "    </tr>\n",
       "    <tr>\n",
       "      <th>278672</th>\n",
       "      <td>5</td>\n",
       "      <td>i don t normally go ga ga over a product very ...</td>\n",
       "      <td>1</td>\n",
       "    </tr>\n",
       "    <tr>\n",
       "      <th>278673</th>\n",
       "      <td>5</td>\n",
       "      <td>i ve been traveling back and forth to england ...</td>\n",
       "      <td>1</td>\n",
       "    </tr>\n",
       "    <tr>\n",
       "      <th>278674</th>\n",
       "      <td>5</td>\n",
       "      <td>these are very nice packing cubes and the 18 x...</td>\n",
       "      <td>1</td>\n",
       "    </tr>\n",
       "    <tr>\n",
       "      <th>278675</th>\n",
       "      <td>5</td>\n",
       "      <td>i am on vacation with my family of four and th...</td>\n",
       "      <td>1</td>\n",
       "    </tr>\n",
       "    <tr>\n",
       "      <th>278676</th>\n",
       "      <td>5</td>\n",
       "      <td>when i signed up to receive a free set of shac...</td>\n",
       "      <td>1</td>\n",
       "    </tr>\n",
       "  </tbody>\n",
       "</table>\n",
       "<p>277858 rows × 3 columns</p>\n",
       "</div>"
      ],
      "text/plain": [
       "        Score                                             Review  Sentiment\n",
       "0           5  this is a great tutu and at a really great pri...          1\n",
       "1           5  i bought this for my 4 yr old daughter for dan...          1\n",
       "2           5  what can i say    my daughters have it in oran...          1\n",
       "3           5  we bought several tutus at once  and they are ...          1\n",
       "4           5  thank you halo heaven great product for little...          1\n",
       "...       ...                                                ...        ...\n",
       "278672      5  i don t normally go ga ga over a product very ...          1\n",
       "278673      5  i ve been traveling back and forth to england ...          1\n",
       "278674      5  these are very nice packing cubes and the 18 x...          1\n",
       "278675      5  i am on vacation with my family of four and th...          1\n",
       "278676      5  when i signed up to receive a free set of shac...          1\n",
       "\n",
       "[277858 rows x 3 columns]"
      ]
     },
     "execution_count": 132,
     "metadata": {},
     "output_type": "execute_result"
    }
   ],
   "source": [
    "# drop reviews with less than 20 chars\n",
    "indexed=review_df.index[review_df['Review'].str.len()<20  ].tolist()\n",
    "review_df = review_df.drop(index=indexed)\n",
    "review_df"
   ]
  },
  {
   "cell_type": "markdown",
   "id": "1d38d686",
   "metadata": {},
   "source": [
    "#### Make dataset of negative sentiments"
   ]
  },
  {
   "cell_type": "code",
   "execution_count": 133,
   "id": "64044ee4",
   "metadata": {},
   "outputs": [
    {
     "data": {
      "text/plain": [
       "'i ordered the jet pack for my 6 year old grandson for halloween 2011 to go with his buzz lightyear costume   unfortunately  when we blew up the jet pack the day before halloween and my grandson wore it for about an hour  it began to deflate quickly   we found a hole but were unable to patch it up so that it stayed inflated since the break was in a crease in the plastic material   luckily  i was able to find and purchase another jet pack at a nearby store in my city which held up fine on halloween '"
      ]
     },
     "execution_count": 133,
     "metadata": {},
     "output_type": "execute_result"
    }
   ],
   "source": [
    "review_Negative = review_df.query('Sentiment== 0 ')\n",
    "review_Negative.reset_index(drop=True, inplace=True)\n",
    "review_Negative['Review'][6]"
   ]
  },
  {
   "cell_type": "code",
   "execution_count": null,
   "id": "d08583cf",
   "metadata": {},
   "outputs": [],
   "source": []
  },
  {
   "cell_type": "markdown",
   "id": "a8f25da7",
   "metadata": {},
   "source": [
    "#### Positive sentiments  dataset"
   ]
  },
  {
   "cell_type": "code",
   "execution_count": 134,
   "id": "182724f1",
   "metadata": {},
   "outputs": [
    {
     "data": {
      "text/plain": [
       "'bought this as a backup to the regular ballet outfit my daughter has to wear  so far  she s using it to play out her cinderella dreams but i am sure we ll be able to use it for a recital sometime soon  the quality is just fine for the price we paid  i was not expecting a designer skirt for this price and got exactly what i paid for '"
      ]
     },
     "execution_count": 134,
     "metadata": {},
     "output_type": "execute_result"
    }
   ],
   "source": [
    "# drop reviews \n",
    "indexed=review_df.index[review_df['Sentiment']==0  ].tolist()\n",
    "review_Positive = review_df.drop(index=indexed)\n",
    "review_Positive.reset_index(drop=True, inplace=True)\n",
    "review_Positive['Review'][6]"
   ]
  },
  {
   "cell_type": "markdown",
   "id": "ebb6ca75",
   "metadata": {},
   "source": [
    "#### Vocabulary size"
   ]
  },
  {
   "cell_type": "code",
   "execution_count": 135,
   "id": "6b6e608c",
   "metadata": {},
   "outputs": [
    {
     "name": "stdout",
     "output_type": "stream",
     "text": [
      "Numer of unique words: 389513\n",
      "Total numer of words: 17226775\n",
      "Percentage unique compaired to total word count: 2.26 %\n"
     ]
    }
   ],
   "source": [
    "num=review_df['Review'].apply(lambda x: len(x.split())).unique().sum()\n",
    "print('Numer of unique words: '+str(num))\n",
    "\n",
    "num2=review_df['Review'].apply(lambda x: len(x.split())).sum()\n",
    "print('Total numer of words: '+str(num2))\n",
    "print('Percentage unique compaired to total word count: {:.2f}'.format((num/num2)*100) + ' %')"
   ]
  },
  {
   "cell_type": "code",
   "execution_count": 136,
   "id": "67c6088b",
   "metadata": {},
   "outputs": [
    {
     "name": "stdout",
     "output_type": "stream",
     "text": [
      "Review Lengths:\n",
      "Min 20\n",
      "Max 22646\n",
      "Avg 316\n"
     ]
    }
   ],
   "source": [
    "print('Review Lengths:')\n",
    "print('Min '+str(min(review_df['Review'].str.len())))\n",
    "print('Max '+str(max(review_df['Review'].str.len())))\n",
    "print('Avg {:.0f}'.format(review_df['Review'].str.len().mean()))"
   ]
  },
  {
   "cell_type": "markdown",
   "id": "4ab261f0",
   "metadata": {},
   "source": [
    "#### Total positive sentiments"
   ]
  },
  {
   "cell_type": "code",
   "execution_count": 138,
   "id": "8a997999",
   "metadata": {},
   "outputs": [
    {
     "data": {
      "text/plain": [
       "251270"
      ]
     },
     "execution_count": 138,
     "metadata": {},
     "output_type": "execute_result"
    }
   ],
   "source": [
    "sum(review_df['Sentiment']==1)"
   ]
  },
  {
   "cell_type": "markdown",
   "id": "934e4cd7",
   "metadata": {},
   "source": [
    "#### Total negative sentiments"
   ]
  },
  {
   "cell_type": "code",
   "execution_count": 139,
   "id": "6ca9a81d",
   "metadata": {},
   "outputs": [
    {
     "data": {
      "text/plain": [
       "26588"
      ]
     },
     "execution_count": 139,
     "metadata": {},
     "output_type": "execute_result"
    }
   ],
   "source": [
    "sum(review_df['Sentiment']==0)"
   ]
  },
  {
   "cell_type": "markdown",
   "id": "d21e9a5b",
   "metadata": {},
   "source": [
    "#### Step 6 Encoding"
   ]
  },
  {
   "cell_type": "code",
   "execution_count": 141,
   "id": "e5a31267",
   "metadata": {},
   "outputs": [],
   "source": [
    "import tensorflow as tf\n",
    "import keras\n",
    "import numpy as np"
   ]
  },
  {
   "cell_type": "markdown",
   "id": "d718c85d",
   "metadata": {},
   "source": [
    "#### Split Data into X and Y"
   ]
  },
  {
   "cell_type": "code",
   "execution_count": 142,
   "id": "282cb481",
   "metadata": {},
   "outputs": [],
   "source": [
    "Review = []\n",
    "for x in review_df['Review']:\n",
    "    Review.append(str(x))\n",
    "Score = []\n",
    "for x in review_df['Sentiment']:\n",
    "    Score.append(str(x)) \n",
    "    \n",
    "Score = list(map(int, Score))    "
   ]
  },
  {
   "cell_type": "markdown",
   "id": "650fd038",
   "metadata": {},
   "source": [
    "#### Make training and test sets\n",
    "\n"
   ]
  },
  {
   "cell_type": "code",
   "execution_count": 143,
   "id": "478a44fd",
   "metadata": {},
   "outputs": [
    {
     "name": "stdout",
     "output_type": "stream",
     "text": [
      "Loaded dataset with 100000 training samples, 177858 test samples\n"
     ]
    }
   ],
   "source": [
    "# code (Brownlee, 2020)\n",
    "\n",
    "training_size = 100000\n",
    "x_train = Review[0:training_size]\n",
    "x_test = Review[training_size:]\n",
    "y_train = Score[0:training_size]\n",
    "y_test= Score[training_size:]\n",
    "print('Loaded dataset with {} training samples, {} test samples'.format(len(x_train ), len(x_test)))"
   ]
  },
  {
   "cell_type": "markdown",
   "id": "e0fe0d36",
   "metadata": {},
   "source": [
    "#### B 2. Tokenize training sentences with embedding  vocabulary size .\n",
    "\n",
    "<p/>\n",
    "\n",
    "The neural network embedding consists of 50,000 words as learned low-dimensional discrete data as continuous vectors. A benefit,  it overcomes the limitations of other encoding methods like One Hot Encoding. The resulting shape of the embedded data is (None, 500, 32). "
   ]
  },
  {
   "cell_type": "code",
   "execution_count": 144,
   "id": "55e01cce",
   "metadata": {},
   "outputs": [],
   "source": [
    "# code(Team, n.d.)\n",
    "\n",
    "from tensorflow.keras.preprocessing.text import Tokenizer\n",
    "#number of unique words\n",
    "vocab_size = 25000\n",
    "oov_tok = \"<OOV>\"\n",
    "\n",
    "tokenizer = Tokenizer(num_words=vocab_size+1, oov_token=oov_tok)\n",
    "tokenizer.fit_on_texts(x_train)\n",
    "\n",
    "\n",
    "word_index = tokenizer.word_index"
   ]
  },
  {
   "cell_type": "markdown",
   "id": "fe6574b0",
   "metadata": {},
   "source": [
    "#### Make sequences with training and test data. "
   ]
  },
  {
   "cell_type": "code",
   "execution_count": 145,
   "id": "1621f5c2",
   "metadata": {},
   "outputs": [],
   "source": [
    "# code (Sharma, 2021)\n",
    "\n",
    "from tensorflow.keras.preprocessing.sequence import pad_sequences\n",
    "\n",
    "training_sequences = tokenizer.texts_to_sequences(x_train)\n",
    "\n",
    "testing_sequences = tokenizer.texts_to_sequences(x_test)"
   ]
  },
  {
   "cell_type": "markdown",
   "id": "34418045",
   "metadata": {},
   "source": [
    "#### B 3. Pad sequences\n",
    "\n",
    "<p/>\n",
    "\n",
    "To address tha variability of review length throughout the dataset, padding is set to 500 for any particular sequence as that reflects the average size of most reviews, since the dataset mean is 315. \n",
    "\n",
    "<p/>\n",
    "\n",
    "Note: padding occurs after the text sequence, truncating is set to 'post'."
   ]
  },
  {
   "cell_type": "code",
   "execution_count": 146,
   "id": "41057ec5",
   "metadata": {},
   "outputs": [],
   "source": [
    "# code(Brownlee, 2016)\n",
    "\n",
    "from keras.preprocessing import sequence\n",
    "\n",
    "x_train = sequence.pad_sequences(training_sequences, maxlen=500, padding='post', truncating='post', value=0)\n",
    "x_test = sequence.pad_sequences(testing_sequences, maxlen=500, padding='post', truncating='post', value=0)"
   ]
  },
  {
   "cell_type": "markdown",
   "id": "2d71aff4",
   "metadata": {},
   "source": [
    "#### A single padding sequence"
   ]
  },
  {
   "cell_type": "code",
   "execution_count": 147,
   "id": "652d558d",
   "metadata": {},
   "outputs": [
    {
     "data": {
      "text/plain": [
       "array([1763,   13, 1892,  336,    7,  213, 1190,  114, 1183,    8,  179,\n",
       "        437,   98,  124,  116,   82,   14,  234,   64, 4168,   83,   92,\n",
       "       6675,    7,    8,   38,  883,    4,  137,  523,  117,  608,  558,\n",
       "         10,   36,   57,   10,    7,    0,    0,    0,    0,    0,    0,\n",
       "          0,    0,    0,    0,    0,    0,    0,    0,    0,    0,    0,\n",
       "          0,    0,    0,    0,    0,    0,    0,    0,    0,    0,    0,\n",
       "          0,    0,    0,    0,    0,    0,    0,    0,    0,    0,    0,\n",
       "          0,    0,    0,    0,    0,    0,    0,    0,    0,    0,    0,\n",
       "          0,    0,    0,    0,    0,    0,    0,    0,    0,    0,    0,\n",
       "          0,    0,    0,    0,    0,    0,    0,    0,    0,    0,    0,\n",
       "          0,    0,    0,    0,    0,    0,    0,    0,    0,    0,    0,\n",
       "          0,    0,    0,    0,    0,    0,    0,    0,    0,    0,    0,\n",
       "          0,    0,    0,    0,    0,    0,    0,    0,    0,    0,    0,\n",
       "          0,    0,    0,    0,    0,    0,    0,    0,    0,    0,    0,\n",
       "          0,    0,    0,    0,    0,    0,    0,    0,    0,    0,    0,\n",
       "          0,    0,    0,    0,    0,    0,    0,    0,    0,    0,    0,\n",
       "          0,    0,    0,    0,    0,    0,    0,    0,    0,    0,    0,\n",
       "          0,    0,    0,    0,    0,    0,    0,    0,    0,    0,    0,\n",
       "          0,    0,    0,    0,    0,    0,    0,    0,    0,    0,    0,\n",
       "          0,    0,    0,    0,    0,    0,    0,    0,    0,    0,    0,\n",
       "          0,    0,    0,    0,    0,    0,    0,    0,    0,    0,    0,\n",
       "          0,    0,    0,    0,    0,    0,    0,    0,    0,    0,    0,\n",
       "          0,    0,    0,    0,    0,    0,    0,    0,    0,    0,    0,\n",
       "          0,    0,    0,    0,    0,    0,    0,    0,    0,    0,    0,\n",
       "          0,    0,    0,    0,    0,    0,    0,    0,    0,    0,    0,\n",
       "          0,    0,    0,    0,    0,    0,    0,    0,    0,    0,    0,\n",
       "          0,    0,    0,    0,    0,    0,    0,    0,    0,    0,    0,\n",
       "          0,    0,    0,    0,    0,    0,    0,    0,    0,    0,    0,\n",
       "          0,    0,    0,    0,    0,    0,    0,    0,    0,    0,    0,\n",
       "          0,    0,    0,    0,    0,    0,    0,    0,    0,    0,    0,\n",
       "          0,    0,    0,    0,    0,    0,    0,    0,    0,    0,    0,\n",
       "          0,    0,    0,    0,    0,    0,    0,    0,    0,    0,    0,\n",
       "          0,    0,    0,    0,    0,    0,    0,    0,    0,    0,    0,\n",
       "          0,    0,    0,    0,    0,    0,    0,    0,    0,    0,    0,\n",
       "          0,    0,    0,    0,    0,    0,    0,    0,    0,    0,    0,\n",
       "          0,    0,    0,    0,    0,    0,    0,    0,    0,    0,    0,\n",
       "          0,    0,    0,    0,    0,    0,    0,    0,    0,    0,    0,\n",
       "          0,    0,    0,    0,    0,    0,    0,    0,    0,    0,    0,\n",
       "          0,    0,    0,    0,    0,    0,    0,    0,    0,    0,    0,\n",
       "          0,    0,    0,    0,    0,    0,    0,    0,    0,    0,    0,\n",
       "          0,    0,    0,    0,    0,    0,    0,    0,    0,    0,    0,\n",
       "          0,    0,    0,    0,    0,    0,    0,    0,    0,    0,    0,\n",
       "          0,    0,    0,    0,    0,    0,    0,    0,    0,    0,    0,\n",
       "          0,    0,    0,    0,    0,    0,    0,    0,    0,    0,    0,\n",
       "          0,    0,    0,    0,    0,    0,    0,    0,    0,    0,    0,\n",
       "          0,    0,    0,    0,    0])"
      ]
     },
     "execution_count": 147,
     "metadata": {},
     "output_type": "execute_result"
    }
   ],
   "source": [
    "# visualize  transformed data\n",
    "x_train[10]"
   ]
  },
  {
   "cell_type": "markdown",
   "id": "017722ce",
   "metadata": {},
   "source": [
    "#### word_to_id dictionary"
   ]
  },
  {
   "cell_type": "code",
   "execution_count": 148,
   "id": "a9cf4ad4",
   "metadata": {},
   "outputs": [],
   "source": [
    "# code (Kapoor, 2021) \n",
    "word_to_id = word_index\n",
    "word_to_id = {k:(v+3) for k,v in word_to_id.items()}\n",
    "word_to_id[\"<PAD>\"] = 0\n",
    "word_to_id[\"<START>\"] = 1\n",
    "word_to_id[\"<UNK>\"] = 2"
   ]
  },
  {
   "cell_type": "markdown",
   "id": "a92f7fde",
   "metadata": {},
   "source": [
    "####  id_to_word"
   ]
  },
  {
   "cell_type": "code",
   "execution_count": 149,
   "id": "50ec2f25",
   "metadata": {},
   "outputs": [],
   "source": [
    "# code (Kapoor, 2021) \n",
    "id_to_word = {idx:word for word, idx in word_to_id.items()}"
   ]
  },
  {
   "cell_type": "markdown",
   "id": "940a7773",
   "metadata": {},
   "source": [
    "#### Read training set"
   ]
  },
  {
   "cell_type": "code",
   "execution_count": 150,
   "id": "8ddfc35e",
   "metadata": {},
   "outputs": [
    {
     "name": "stdout",
     "output_type": "stream",
     "text": [
      "sits of columbia front and best shine bit taken a then costume shoe been recommend do they 4 really lume your bra taclite and a fit touch <OOV> over skin day crocs items it be love it and <PAD> <PAD> <PAD> <PAD> <PAD> <PAD> <PAD> <PAD> <PAD> <PAD> <PAD> <PAD> <PAD> <PAD> <PAD> <PAD> <PAD> <PAD> <PAD> <PAD> <PAD> <PAD> <PAD> <PAD> <PAD> <PAD> <PAD> <PAD> <PAD> <PAD> <PAD> <PAD> <PAD> <PAD> <PAD> <PAD> <PAD> <PAD> <PAD> <PAD> <PAD> <PAD> <PAD> <PAD> <PAD> <PAD> <PAD> <PAD> <PAD> <PAD> <PAD> <PAD> <PAD> <PAD> <PAD> <PAD> <PAD> <PAD> <PAD> <PAD> <PAD> <PAD> <PAD> <PAD> <PAD> <PAD> <PAD> <PAD> <PAD> <PAD> <PAD> <PAD> <PAD> <PAD> <PAD> <PAD> <PAD> <PAD> <PAD> <PAD> <PAD> <PAD> <PAD> <PAD> <PAD> <PAD> <PAD> <PAD> <PAD> <PAD> <PAD> <PAD> <PAD> <PAD> <PAD> <PAD> <PAD> <PAD> <PAD> <PAD> <PAD> <PAD> <PAD> <PAD> <PAD> <PAD> <PAD> <PAD> <PAD> <PAD> <PAD> <PAD> <PAD> <PAD> <PAD> <PAD> <PAD> <PAD> <PAD> <PAD> <PAD> <PAD> <PAD> <PAD> <PAD> <PAD> <PAD> <PAD> <PAD> <PAD> <PAD> <PAD> <PAD> <PAD> <PAD> <PAD> <PAD> <PAD> <PAD> <PAD> <PAD> <PAD> <PAD> <PAD> <PAD> <PAD> <PAD> <PAD> <PAD> <PAD> <PAD> <PAD> <PAD> <PAD> <PAD> <PAD> <PAD> <PAD> <PAD> <PAD> <PAD> <PAD> <PAD> <PAD> <PAD> <PAD> <PAD> <PAD> <PAD> <PAD> <PAD> <PAD> <PAD> <PAD> <PAD> <PAD> <PAD> <PAD> <PAD> <PAD> <PAD> <PAD> <PAD> <PAD> <PAD> <PAD> <PAD> <PAD> <PAD> <PAD> <PAD> <PAD> <PAD> <PAD> <PAD> <PAD> <PAD> <PAD> <PAD> <PAD> <PAD> <PAD> <PAD> <PAD> <PAD> <PAD> <PAD> <PAD> <PAD> <PAD> <PAD> <PAD> <PAD> <PAD> <PAD> <PAD> <PAD> <PAD> <PAD> <PAD> <PAD> <PAD> <PAD> <PAD> <PAD> <PAD> <PAD> <PAD> <PAD> <PAD> <PAD> <PAD> <PAD> <PAD> <PAD> <PAD> <PAD> <PAD> <PAD> <PAD> <PAD> <PAD> <PAD> <PAD> <PAD> <PAD> <PAD> <PAD> <PAD> <PAD> <PAD> <PAD> <PAD> <PAD> <PAD> <PAD> <PAD> <PAD> <PAD> <PAD> <PAD> <PAD> <PAD> <PAD> <PAD> <PAD> <PAD> <PAD> <PAD> <PAD> <PAD> <PAD> <PAD> <PAD> <PAD> <PAD> <PAD> <PAD> <PAD> <PAD> <PAD> <PAD> <PAD> <PAD> <PAD> <PAD> <PAD> <PAD> <PAD> <PAD> <PAD> <PAD> <PAD> <PAD> <PAD> <PAD> <PAD> <PAD> <PAD> <PAD> <PAD> <PAD> <PAD> <PAD> <PAD> <PAD> <PAD> <PAD> <PAD> <PAD> <PAD> <PAD> <PAD> <PAD> <PAD> <PAD> <PAD> <PAD> <PAD> <PAD> <PAD> <PAD> <PAD> <PAD> <PAD> <PAD> <PAD> <PAD> <PAD> <PAD> <PAD> <PAD> <PAD> <PAD> <PAD> <PAD> <PAD> <PAD> <PAD> <PAD> <PAD> <PAD> <PAD> <PAD> <PAD> <PAD> <PAD> <PAD> <PAD> <PAD> <PAD> <PAD> <PAD> <PAD> <PAD> <PAD> <PAD> <PAD> <PAD> <PAD> <PAD> <PAD> <PAD> <PAD> <PAD> <PAD> <PAD> <PAD> <PAD> <PAD> <PAD> <PAD> <PAD> <PAD> <PAD> <PAD> <PAD> <PAD> <PAD> <PAD> <PAD> <PAD> <PAD> <PAD> <PAD> <PAD> <PAD> <PAD> <PAD> <PAD> <PAD> <PAD> <PAD> <PAD> <PAD> <PAD> <PAD> <PAD> <PAD> <PAD> <PAD> <PAD> <PAD> <PAD> <PAD> <PAD> <PAD> <PAD> <PAD> <PAD> <PAD> <PAD> <PAD> <PAD> <PAD> <PAD> <PAD> <PAD> <PAD> <PAD> <PAD> <PAD> <PAD> <PAD> <PAD> <PAD> <PAD> <PAD> <PAD> <PAD> <PAD> <PAD> <PAD> <PAD> <PAD> <PAD> <PAD> <PAD> <PAD> <PAD> <PAD> <PAD> <PAD> <PAD> <PAD> <PAD> <PAD> <PAD> <PAD> <PAD> <PAD> <PAD> <PAD> <PAD> <PAD> <PAD> <PAD> <PAD> <PAD> <PAD> <PAD> <PAD>\n"
     ]
    }
   ],
   "source": [
    "print(\" \".join(id_to_word[id] for id in x_train[10]))"
   ]
  },
  {
   "cell_type": "markdown",
   "id": "30a2a149",
   "metadata": {},
   "source": [
    "#### Read target set"
   ]
  },
  {
   "cell_type": "code",
   "execution_count": 151,
   "id": "ce6c9982",
   "metadata": {},
   "outputs": [
    {
     "data": {
      "text/plain": [
       "1"
      ]
     },
     "execution_count": 151,
     "metadata": {},
     "output_type": "execute_result"
    }
   ],
   "source": [
    "y_train[1]"
   ]
  },
  {
   "cell_type": "markdown",
   "id": "bfc76512",
   "metadata": {},
   "source": [
    "#### Model building:"
   ]
  },
  {
   "cell_type": "code",
   "execution_count": 152,
   "id": "69318a7e",
   "metadata": {},
   "outputs": [],
   "source": [
    "from keras.layers import Embedding, LSTM, Dense, Dropout\n",
    "from keras import Sequential"
   ]
  },
  {
   "cell_type": "markdown",
   "id": "d8f4b07c",
   "metadata": {},
   "source": [
    "#### B 4 Last-layer activation and loss function\n",
    "\n",
    "<p/>\n",
    "\n",
    "* The Problem Type = Binary classification\n",
    "\n",
    "* Last-layer activation = sigmoid\n",
    "\n",
    "* Loss function = binary_crossentropy\n",
    "\n",
    "* Example = Dog vs cat, Sentiemnt analysis(pos/neg)\n"
   ]
  },
  {
   "cell_type": "code",
   "execution_count": 153,
   "id": "80ef6e23",
   "metadata": {},
   "outputs": [],
   "source": [
    "# code  (Team K, n.d.)\n",
    "\n",
    "import tensorflow as tf\n",
    "from tensorflow.keras import layers\n",
    "# A integer input for vocab indices.\n",
    "inputs = tf.keras.Input(shape=(None,), dtype=\"int64\")\n",
    "embedding_vector_length = 32 \n",
    "# Next, we add a layer to map those vocab indices into a space of dimensionality\n",
    "# 'embedding_dim'.\n",
    "x = layers.Embedding((vocab_size+1), embedding_vector_length , input_length=500)(inputs)\n",
    "\n",
    "x = layers.Dropout(0.5)(x)\n",
    "\n",
    "# Conv1D + global max pooling\n",
    "x = layers.Conv1D(128, 7, padding=\"valid\", activation=\"relu\", strides=3)(x)\n",
    "x = layers.Conv1D(128, 7, padding=\"valid\", activation=\"relu\", strides=3)(x)\n",
    "x = layers.GlobalMaxPooling1D()(x)\n",
    "\n",
    "# We add a vanilla hidden layer:\n",
    "x = layers.Dense(128, activation=\"relu\")(x)\n",
    "x = layers.Dropout(0.5)(x)\n",
    "\n",
    "# We project onto a single unit output layer, and squash it with a sigmoid:\n",
    "predictions = layers.Dense(1, activation=\"sigmoid\", name=\"predictions\")(x)\n",
    "\n",
    "model = tf.keras.Model(inputs, predictions)\n",
    "\n",
    "# Compile the model with binary crossentropy loss and an adam optimizer.\n",
    "model.compile(loss=\"binary_crossentropy\", optimizer=\"adam\", metrics=[\"accuracy\"])\n"
   ]
  },
  {
   "cell_type": "markdown",
   "id": "81953114",
   "metadata": {},
   "source": [
    "#### B 5. Steps used to prepare the data for analysis, including the size of the training, validation, and test set split.\n",
    "\n",
    "<p/>\n",
    "\n",
    "The data is prepared by first making a smaller dataset of the initial data containing only Score and Column values. The data is verified to contain no NULL values within it. Next unusual characters are checked for and removed. Categories of sentiment are made from the fact that the Score is 1 through 5, but the classifier is binary, so scores 1 and 2 are a sentiment of 0, and scores 3 through 5 are labeled a sentiment of 1. Next, the ratio of positive to negative reviews is analyzed, and reviews with less than 20 characters are dropped from the dataset. \n",
    "Additional datasets of purely negative and positive reviews are made for later analysis. The average vocabulary size is measured along with the dataset floor and ceiling of vocabulary structure. Finally, the total for positive and negative sentiment is measured before moving to the tokenization process covered in other sections. \n"
   ]
  },
  {
   "cell_type": "markdown",
   "id": "9da2e4de",
   "metadata": {},
   "source": [
    "#### B 6. Save prepared dataset"
   ]
  },
  {
   "cell_type": "code",
   "execution_count": 140,
   "id": "ca97692c",
   "metadata": {},
   "outputs": [],
   "source": [
    "review_df.to_csv('SequenceDataClean.csv')"
   ]
  },
  {
   "cell_type": "markdown",
   "id": "09a1766c",
   "metadata": {},
   "source": [
    "### Part III:  Network Architecture"
   ]
  },
  {
   "cell_type": "markdown",
   "id": "c906a103",
   "metadata": {},
   "source": [
    "#### C 1. Output of the model summary of the function from TensorFlow :"
   ]
  },
  {
   "cell_type": "code",
   "execution_count": 154,
   "id": "d69000a8",
   "metadata": {},
   "outputs": [
    {
     "name": "stdout",
     "output_type": "stream",
     "text": [
      "Model: \"model_1\"\n",
      "_________________________________________________________________\n",
      " Layer (type)                Output Shape              Param #   \n",
      "=================================================================\n",
      " input_2 (InputLayer)        [(None, None)]            0         \n",
      "                                                                 \n",
      " embedding_2 (Embedding)     (None, None, 32)          800032    \n",
      "                                                                 \n",
      " dropout_2 (Dropout)         (None, None, 32)          0         \n",
      "                                                                 \n",
      " conv1d_2 (Conv1D)           (None, None, 128)         28800     \n",
      "                                                                 \n",
      " conv1d_3 (Conv1D)           (None, None, 128)         114816    \n",
      "                                                                 \n",
      " global_max_pooling1d_1 (Glo  (None, 128)              0         \n",
      " balMaxPooling1D)                                                \n",
      "                                                                 \n",
      " dense_2 (Dense)             (None, 128)               16512     \n",
      "                                                                 \n",
      " dropout_3 (Dropout)         (None, 128)               0         \n",
      "                                                                 \n",
      " predictions (Dense)         (None, 1)                 129       \n",
      "                                                                 \n",
      "=================================================================\n",
      "Total params: 960,289\n",
      "Trainable params: 960,289\n",
      "Non-trainable params: 0\n",
      "_________________________________________________________________\n"
     ]
    }
   ],
   "source": [
    "# code (Kapoor, 2021) \n",
    "\n",
    "model.compile(loss='binary_crossentropy',optimizer='adam', metrics=['accuracy']) \n",
    "model.summary()"
   ]
  },
  {
   "cell_type": "markdown",
   "id": "82d86e3c",
   "metadata": {},
   "source": [
    "#### C 2. Number of layers, the type of layers, and total number of parameters\n",
    "\n",
    "<p/>\n",
    "\n",
    "**_Number of layers_** - 9\n",
    "\n",
    "<p/>\n",
    "\n",
    "**_Type of layers_** - Embedding, Dropout, Conv1D, GlobalMaxPooling1D, and Dense\n",
    "\n",
    "<p/>\n",
    "\n",
    "**_Total number of parameters_**\n",
    "\n",
    "<p/>\n",
    "\n",
    "* Embedding - 800032\n",
    "* Conv1D - 28800, 114816\n",
    "* Dense -16512\n",
    "* predictions (Dense) - 129"
   ]
  },
  {
   "cell_type": "markdown",
   "id": "30d3addf",
   "metadata": {},
   "source": [
    "#### Part III:  Network Architecture\n",
    "\n",
    "<p/>\n",
    "\n",
    "\n",
    "\n",
    "#### C 3.  Hyperparameters:\n",
    "\n",
    "•   activation functions - **\"Sigmoid\"**\n",
    "\n",
    "•   number of nodes per layer - **1/7/1** \n",
    "\n",
    "•   loss function - **\"binary_crossentropy\"**\n",
    "\n",
    "•   optimizer - **\"adam\"**\n",
    "\n",
    "•   stopping criteria - **EarlyStopping(monitor='loss', patience=5,  restore_best_weights = True)**\n",
    "\n",
    "•   evaluation metric - **model.evaluate(x_test, y_test)**\n",
    "\n",
    "\n",
    "<p/>\n",
    "Since an activation function is added to an artificial neural network to learn complex patterns and decides what information is to be passed to the next neuron to continue learning. Sigmoid is used to predict the probability of an output of 1 to 0 and uses a smooth gradient to find the slope between two points. (Bag, 2021) The layer structure can contain a single input node, seven hidden nodes, and a single output node (1/7/1). (Brownlee, 2018) Since the input and output nodes are paramount to the hidden layers, the nodes per layer are the sum of inputs and outputs, in this case, two. Binary cross-entropy is the selected loss function because the problem is a binary classification based on the predicted variable in 1 or 0 to represent a good review or a bad review. Adaptive Moment Estimation (adam) is the chosen optimization algorithm. Adam is based on using past decaying gradients exponentially decaying average of past squared gradients to learn adaptively. (Machine Learning Journey, 2021) The stop criteria are constructed from the EarlyStopping() class by monitoring ‘loss’ with patience to wait for five additional epochs to quit learning and revert to the best instance in that timeframe, so the accuracy will not be degraded the patience interval is observed. Validation compares x_test and  y_test to determine accuracy in the data learned and calculate loss improvements. "
   ]
  },
  {
   "cell_type": "markdown",
   "id": "735a078b",
   "metadata": {},
   "source": [
    "#### Train the model "
   ]
  },
  {
   "cell_type": "code",
   "execution_count": 155,
   "id": "25b1145d",
   "metadata": {},
   "outputs": [
    {
     "name": "stdout",
     "output_type": "stream",
     "text": [
      "Epoch 1/10\n",
      "1563/1563 [==============================] - 12s 7ms/step - loss: 0.2257 - accuracy: 0.9170 - val_loss: 0.1840 - val_accuracy: 0.9247\n",
      "Epoch 2/10\n",
      "1563/1563 [==============================] - 11s 7ms/step - loss: 0.1647 - accuracy: 0.9340 - val_loss: 0.1737 - val_accuracy: 0.9283\n",
      "Epoch 3/10\n",
      "1563/1563 [==============================] - 11s 7ms/step - loss: 0.1451 - accuracy: 0.9413 - val_loss: 0.1734 - val_accuracy: 0.9288\n",
      "Epoch 4/10\n",
      "1563/1563 [==============================] - 11s 7ms/step - loss: 0.1316 - accuracy: 0.9472 - val_loss: 0.1801 - val_accuracy: 0.9283\n",
      "Epoch 5/10\n",
      "1563/1563 [==============================] - 11s 7ms/step - loss: 0.1184 - accuracy: 0.9523 - val_loss: 0.1842 - val_accuracy: 0.9284\n",
      "Epoch 6/10\n",
      "1563/1563 [==============================] - 11s 7ms/step - loss: 0.1067 - accuracy: 0.9572 - val_loss: 0.1919 - val_accuracy: 0.9270\n",
      "Epoch 7/10\n",
      "1563/1563 [==============================] - 11s 7ms/step - loss: 0.0986 - accuracy: 0.9604 - val_loss: 0.1926 - val_accuracy: 0.9272\n",
      "Epoch 8/10\n",
      "1563/1563 [==============================] - 11s 7ms/step - loss: 0.0899 - accuracy: 0.9648 - val_loss: 0.2336 - val_accuracy: 0.9282\n",
      "Epoch 9/10\n",
      "1563/1563 [==============================] - 11s 7ms/step - loss: 0.0824 - accuracy: 0.9678 - val_loss: 0.2370 - val_accuracy: 0.9274\n",
      "Epoch 10/10\n",
      "1563/1563 [==============================] - 11s 7ms/step - loss: 0.0764 - accuracy: 0.9699 - val_loss: 0.2348 - val_accuracy: 0.9266\n"
     ]
    }
   ],
   "source": [
    "# code (Kapoor, 2021) (Team, n.d.)\n",
    "from keras import callbacks\n",
    "import keras\n",
    "import numpy as np\n",
    "from tensorflow.keras.callbacks import EarlyStopping\n",
    "\n",
    "# early stopping overfitting\n",
    "callback = callbacks.EarlyStopping(monitor='loss', patience=5,  restore_best_weights = True)\n",
    "\n",
    "y_train = np.array(y_train)\n",
    "y_test = np.array(y_test)\n",
    "\n",
    "history = model.fit(x_train, y_train, validation_data=(x_test, y_test), epochs=10, batch_size=64, callbacks = [callback])"
   ]
  },
  {
   "cell_type": "markdown",
   "id": "96cf44f6",
   "metadata": {},
   "source": [
    "### Part IV:  Model Evaluation\n",
    "\n",
    "<p/> \n",
    "\n",
    "#### D 1.  Impact of using stopping criteria.\n",
    "\n",
    "<p/> \n",
    "\n",
    "The number of epochs is chosen as 10 for this case study but a stopping criterion of observed loss is used with a patience of 5 to allow for the best possible outcomes while limiting the possibility of over fitting the model data. If the loss does not improve in 5 consecutive epochs, then the fitting of data if stopped and the rolled back to the best instance within the previous 5 iterations. Therefore, the model will not degrade as much. \n",
    "\n",
    "<p/>\n",
    "Example of the final epoch:\n",
    "\n",
    "<p/>\n",
    "1563/1563 = 11s 7ms/step - loss: 0.0764 - accuracy: 0.9699 - val_loss: 0.2348 - val_accuracy: 0.9266\n",
    "\n",
    "\n",
    "\n",
    "\n"
   ]
  },
  {
   "cell_type": "markdown",
   "id": "72fc5740",
   "metadata": {},
   "source": [
    "#### D 2. Visualizations of the model training process."
   ]
  },
  {
   "cell_type": "code",
   "execution_count": 157,
   "id": "7e142ea6",
   "metadata": {},
   "outputs": [
    {
     "data": {
      "image/png": "[encoded data removed]",
      "text/plain": [
       "<Figure size 432x288 with 1 Axes>"
      ]
     },
     "metadata": {
      "needs_background": "light"
     },
     "output_type": "display_data"
    },
    {
     "data": {
      "image/png": "[encoded data removed]",
      "text/plain": [
       "<Figure size 432x288 with 1 Axes>"
      ]
     },
     "metadata": {
      "needs_background": "light"
     },
     "output_type": "display_data"
    }
   ],
   "source": [
    "#code (Li, 2019)\n",
    "import matplotlib.pyplot as plt\n",
    "def plot_graphs(history, string):\n",
    "    plt.plot(history.history[string])\n",
    "    plt.plot(history.history['val_'+string])\n",
    "    plt.xlabel(\"Epochs\")\n",
    "    plt.ylabel(string)\n",
    "    plt.legend([string, 'val_'+string])\n",
    "    plt.show()\n",
    "\n",
    "plot_graphs(history, \"accuracy\")\n",
    "plot_graphs(history, \"loss\")"
   ]
  },
  {
   "cell_type": "code",
   "execution_count": 158,
   "id": "b91ae33e",
   "metadata": {
    "scrolled": false
   },
   "outputs": [
    {
     "data": {
      "text/plain": [
       "<Figure size 432x288 with 0 Axes>"
      ]
     },
     "execution_count": 158,
     "metadata": {},
     "output_type": "execute_result"
    },
    {
     "data": {
      "image/png": "[encoded data removed]",
      "text/plain": [
       "<Figure size 432x288 with 1 Axes>"
      ]
     },
     "metadata": {
      "needs_background": "light"
     },
     "output_type": "display_data"
    },
    {
     "data": {
      "image/png": "[encoded data removed]",
      "text/plain": [
       "<Figure size 432x288 with 1 Axes>"
      ]
     },
     "metadata": {
      "needs_background": "light"
     },
     "output_type": "display_data"
    },
    {
     "data": {
      "text/plain": [
       "<Figure size 432x288 with 0 Axes>"
      ]
     },
     "metadata": {},
     "output_type": "display_data"
    }
   ],
   "source": [
    "# code(Sucky, 2021)\n",
    "%matplotlib inline\n",
    "import matplotlib.pyplot as plt\n",
    "import matplotlib.image as mpimg\n",
    "acc = history.history['accuracy']\n",
    "val_acc = history.history['val_accuracy']\n",
    "loss = history.history['loss']\n",
    "val_loss = history.history['val_loss']\n",
    "epochs=range(len(acc))\n",
    "plt.plot(epochs, acc, 'r', 'Training Accuracy')\n",
    "plt.plot(epochs, val_acc, 'b', 'Validation Accuracy')\n",
    "plt.title('Training and validation accuracy')\n",
    "plt.figure()\n",
    "plt.plot(epochs, loss, 'r', 'Training Loss')\n",
    "plt.plot(epochs, val_loss, 'b', 'Validation Loss')\n",
    "plt.title('Training and validation loss')\n",
    "plt.figure()"
   ]
  },
  {
   "cell_type": "markdown",
   "id": "9cfb2790",
   "metadata": {},
   "source": [
    "#### D 3. Evaluating model\n",
    "\n",
    "<p/>\n",
    "\n",
    "The model fitness can be judged by its statistical significance and evaluations like model.evaluate() to know that the model performs with a loss and accuracy standardization of loss: 0.2348 - accuracy: 0.9266. "
   ]
  },
  {
   "cell_type": "code",
   "execution_count": 156,
   "id": "61f8ec19",
   "metadata": {},
   "outputs": [
    {
     "name": "stdout",
     "output_type": "stream",
     "text": [
      "5559/5559 [==============================] - 8s 1ms/step - loss: 0.2348 - accuracy: 0.9266\n"
     ]
    }
   ],
   "source": [
    "# code (Kapoor, 2021)\n",
    "model_eval = model.evaluate(x_test, y_test)"
   ]
  },
  {
   "cell_type": "markdown",
   "id": "0fb49467",
   "metadata": {},
   "source": [
    "#### Save model"
   ]
  },
  {
   "cell_type": "code",
   "execution_count": 159,
   "id": "ff645c02",
   "metadata": {},
   "outputs": [],
   "source": [
    "# code (Kapoor, 2021)\n",
    "#The model can be loaded directly, and the training phase can be avoided.\n",
    "model.save('AMZ.h5')"
   ]
  },
  {
   "cell_type": "markdown",
   "id": "4a45a693",
   "metadata": {},
   "source": [
    "#### Predict random reviews to test the model."
   ]
  },
  {
   "cell_type": "code",
   "execution_count": 160,
   "id": "e2665273",
   "metadata": {},
   "outputs": [],
   "source": [
    "# prediction\n",
    "def user_input(review):\n",
    "    try:\n",
    "        vec = []\n",
    "        for word in review.split(\" \"):\n",
    "            if word[-1] == \".\":\n",
    "                word = word[:-1]\n",
    "            vec.append(word_to_id[str.lower(word)])\n",
    "        vec_padded = sequence.pad_sequences([vec], 500)\n",
    "        print(review, model.predict(vec_padded))\n",
    "    except Exception as e:\n",
    "        print('something was not recognized')\n",
    "        print(e)"
   ]
  },
  {
   "cell_type": "markdown",
   "id": "e8078bfe",
   "metadata": {},
   "source": [
    "#### D 4. Predictive accuracy of the trained network\n",
    "\n",
    "<p/>\n",
    "\n",
    "However, the above standardization does not tell the complete story even with a predictive accuracy of 93%; the practical significance of how the model performs the task it is meant to do, detect and classify the sentiment of the text. This measure takes a step beyond predictive accuracy alone. Therefore testing the model with good and bad reviews can shed insight into how the model performs. \n",
    "\n",
    "<p/>\n",
    "\n",
    "As the test below indicates, the model makes a sample classification. A confidence interval measures how close the model thinks the review falls between a 1 or 0. \n",
    "\n",
    "<p/>\n",
    "\n",
    "The first two Good reviews:\n",
    "\n",
    "<p/>\n",
    "\n",
    "•\t0.2290428\n",
    "\n",
    "<p/>\n",
    "\n",
    "•\t0.9866534\n",
    "\n",
    "<p/>\n",
    "\n",
    "Next are the two Bad reviews:\n",
    "\n",
    "<p/>\n",
    "\n",
    "•\t0.9544798\n",
    "\n",
    "<p/>\n",
    "\n",
    "•\t0.61488944\n",
    "\n",
    "<p/>\n",
    "\n",
    "Here we see that the practical significance of the model is debatable because, based on our sample of 4 reviews, the model seems to classify correctly half the time. The model may not be practical yet for a business to use in a business process. \n"
   ]
  },
  {
   "cell_type": "markdown",
   "id": "fb0ee116",
   "metadata": {},
   "source": [
    "#### A 'good' review"
   ]
  },
  {
   "cell_type": "code",
   "execution_count": 161,
   "id": "91efce9e",
   "metadata": {},
   "outputs": [
    {
     "name": "stdout",
     "output_type": "stream",
     "text": [
      "Super comfortable to be on your feet all day Order wide if you have average width feet These run narrow Wear these as a surgical tech. [[0.2290428]]\n"
     ]
    }
   ],
   "source": [
    "review = 'Super comfortable to be on your feet all day Order wide if you have average width feet These run narrow Wear these as a surgical tech.'\n",
    "user_input(review)"
   ]
  },
  {
   "cell_type": "code",
   "execution_count": 162,
   "id": "8b8985fb",
   "metadata": {},
   "outputs": [
    {
     "name": "stdout",
     "output_type": "stream",
     "text": [
      "The first container came split and my mailbox and the carton was full of the cleaner Went online and Amazon shipped me another fast delivery The product works great dumped all my rings in maybe I should have done it one by one but they came out clean and beautiful Would purchase again. [[0.9866534]]\n"
     ]
    }
   ],
   "source": [
    "review = 'The first container came split and my mailbox and the carton was full of the cleaner Went online and Amazon shipped me another fast delivery The product works great dumped all my rings in maybe I should have done it one by one but they came out clean and beautiful Would purchase again.'\n",
    "user_input(review)"
   ]
  },
  {
   "cell_type": "markdown",
   "id": "fcdea8ca",
   "metadata": {},
   "source": [
    "#### A 'bad' review"
   ]
  },
  {
   "cell_type": "code",
   "execution_count": 163,
   "id": "9780e8b1",
   "metadata": {},
   "outputs": [
    {
     "name": "stdout",
     "output_type": "stream",
     "text": [
      "Awful awful smell from tutu Left out for three days out in clothesline and the foul smell did not go away My daughter did not even wanted to try it on I did a hand wash cycle with a scoop of to give it an extra freshness IT DID NOT WORK Makes you wonder of the awful harmful chemicals they work with [[0.9544798]]\n"
     ]
    }
   ],
   "source": [
    "review = 'Awful awful smell from tutu Left out for three days out in clothesline and the foul smell did not go away My daughter did not even wanted to try it on I did a hand wash cycle with a scoop of to give it an extra freshness IT DID NOT WORK Makes you wonder of the awful harmful chemicals they work with'\n",
    "user_input(review)"
   ]
  },
  {
   "cell_type": "code",
   "execution_count": 164,
   "id": "6debebdb",
   "metadata": {},
   "outputs": [
    {
     "name": "stdout",
     "output_type": "stream",
     "text": [
      "Complete garbage dont buy these shoes size also came bigger for some reason [[0.61488944]]\n"
     ]
    }
   ],
   "source": [
    "review = 'Complete garbage dont buy these shoes size also came bigger for some reason'\n",
    "user_input(review)"
   ]
  },
  {
   "cell_type": "markdown",
   "id": "b03f8245",
   "metadata": {},
   "source": [
    "### Part V: Summary and Recommendations\n",
    "<p/>\n",
    "\n",
    "The conclusion of this study is a partial success because the data is classifiable, and an artificial neural network is trainable to classify presented information; however, the statistical significance is the better performance aspect of the project because the model accuracy is 93%. However, the practical relevance begins to show the model's weakness as it is to date. When the model classifies data, it still seems confused about correctly identifying some of the vocabulary used in the customer reviews presented to the model. \n",
    "\n",
    "<p/>\n",
    "\n",
    "The recommendation is to continue steps to improve the neural layers of the model and find an effective way for training an artificial neural network to recognize and classify the language successfully. However, the current model is still a successful result, given the scope of this study. \n"
   ]
  },
  {
   "cell_type": "markdown",
   "id": "7504da4a",
   "metadata": {},
   "source": [
    "### Sources"
   ]
  },
  {
   "cell_type": "markdown",
   "id": "8866562f",
   "metadata": {},
   "source": [
    "\n",
    "Bag, S. (2021, April 26). Activation Functions — All You Need To Know! Analytics Vidhya. https://medium.com/analytics-vidhya/activation-functions-all-you-need-to-know-355a850d025e\n",
    "\n",
    "Brownlee, J. (2016, July 3). How to Predict Sentiment From Movie Reviews Using Deep Learning (Text Classification). Machine Learning Mastery. https://machinelearningmastery.com/predict-sentiment-movie-reviews-using-deep-learning/\n",
    "\n",
    "Brownlee, J. (2020, July 23). Train-Test Split for Evaluating Machine Learning Algorithms. Machine Learning Mastery. https://machinelearningmastery.com/train-test-split-for-evaluating-machine-learning-algorithms/\n",
    "\n",
    "\n",
    "Brownlee, J. (2018, July 26). How to Configure the Number of Layers and Nodes in a Neural Network. Machine Learning Mastery. https://machinelearningmastery.com/how-to-configure-the-number-of-layers-and-nodes-in-a-neural-network/\n",
    "\n",
    "\n",
    "Google Colaboratory. (n.d.). Colab.research.google.com. Retrieved April 13, 2022, from https://colab.research.google.com/github/lmoroney/dlaicourse/blob/master/TensorFlow%20In%20Practice/Course%203%20-%20NLP/Course%203%20-%20Week%202%20-%20Lesson%202.ipynb\n",
    "\n",
    "Google Colaboratory. (n.d.). Colab.research.google.com. Retrieved April 11, 2022, from https://colab.research.google.com/github/lmoroney/dlaicourse/blob/master/TensorFlow%20In%20Practice/Course%203%20-%20NLP/Course%203%20-%20Week%202%20-%20Lesson%202.ipynb#scrollTo=FufaT4vlkiDE\n",
    "\n",
    "gzip - How to extract a gz file in python. (n.d.). Stack Overflow. Retrieved April 9, 2022, from https://stackoverflow.com/questions/52332897/how-to-extract-a-gz-file-in-python\n",
    "\n",
    "He, R. McAuley, J.  (2016) Ups and downs: Modeling the visual evolution of fashion trends with one-class collaborative filtering from pdf\n",
    "\n",
    "\n",
    "Kapoor, R. (2021, June 2). Sentiment Analysis using Keras & LSTM. Geek Culture. https://medium.com/geekculture/sentiment-analysis-using-rnn-keras-e545fbe000\n",
    "\n",
    "Li, S. (2019, May 17). Time Series Analysis, Visualization & Forecasting with LSTM. Medium. https://towardsdatascience.com/time-series-analysis-visualization-forecasting-with-lstm-77a905180eba\n",
    "\n",
    "Machine Learning Journey. (2021, January 9). Adam optimizer explained. https://machinelearningjourney.com/index.php/2021/01/09/adam-optimizer/\n",
    "\n",
    "McAuley, J. Targett, C. Shi, J. van den Hengel, A. (2015)  Image-based recommendations on styles and substitutes SIGIR, from pdf\n",
    "\n",
    "Python program to check if a string contains any unique character. (n.d.). Www.tutorialspoint.com. Retrieved April 9, 2022, from https://www.tutorialspoint.com/python-program-to-check-if-a-string-contains-any-unique-character\n",
    "\n",
    "\n",
    "Sharma, P. (2021, January 1). Keras Tokenizer Tutorial with Examples for Beginners. MLK - Machine Learning Knowledge. https://machinelearningknowledge.ai/keras-tokenizer-tutorial-with-examples-for-fit_on_texts-texts_to_sequences-texts_to_matrix-sequences_to_matrix/\n",
    "\n",
    "Sucky, R. N. (2021, July 8). A Complete Step by Step Tutorial on Sentiment Analysis in Keras and Tensorflow. Medium. https://towardsdatascience.com/a-complete-step-by-step-tutorial-on-sentiment-analysis-in-keras-and-tensorflow-ea420cc8913f\n",
    "\n",
    "Team, K. (n.d.). Keras documentation: EarlyStopping. Keras.io. https://keras.io/api/callbacks/early_stopping/\n",
    "\n",
    "Team, K. (n.d.). Keras documentation: Text classification from scratch. Keras.io. Retrieved April 16, 2022, from https://keras.io/examples/nlp/text_classification_from_scratch/\n",
    "\n",
    "<p/>\n",
    "\n",
    "Why TensorFlow. (n.d.). TensorFlow. https://www.tensorflow.org/about"
   ]
  },
  {
   "cell_type": "code",
   "execution_count": null,
   "id": "71bea856",
   "metadata": {},
   "outputs": [],
   "source": []
  }
 ],
 "metadata": {
  "kernelspec": {
   "display_name": "Python 3 (ipykernel)",
   "language": "python",
   "name": "python3"
  },
  "language_info": {
   "codemirror_mode": {
    "name": "ipython",
    "version": 3
   },
   "file_extension": ".py",
   "mimetype": "text/x-python",
   "name": "python",
   "nbconvert_exporter": "python",
   "pygments_lexer": "ipython3",
   "version": "3.9.7"
  }
 },
 "nbformat": 4,
 "nbformat_minor": 5
}
